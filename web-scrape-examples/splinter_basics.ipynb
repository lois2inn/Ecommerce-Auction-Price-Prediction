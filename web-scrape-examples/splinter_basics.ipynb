{
 "cells": [
  {
   "cell_type": "markdown",
   "id": "f03c85c3",
   "metadata": {},
   "source": [
    "## Splinter\n",
    "- Web Scraping tool used to write web browser automation scripts.\n",
    "- An abstraction layer on top of other browser automation tools such as Selenium, which keeps it nice and user friendly.\n",
    "- Scrape the HTML with Splinter and extract data with BeautifulSoup4."
   ]
  },
  {
   "cell_type": "code",
   "execution_count": 1,
   "id": "ccada15f",
   "metadata": {},
   "outputs": [],
   "source": [
    "# Install libraries if not installed\n",
    "# !pip install splinter"
   ]
  },
  {
   "cell_type": "code",
   "execution_count": 2,
   "id": "5ddf9e0f",
   "metadata": {},
   "outputs": [],
   "source": [
    "from splinter import Browser\n",
    "from webdriver_manager.chrome import ChromeDriverManager"
   ]
  },
  {
   "cell_type": "code",
   "execution_count": 3,
   "id": "b03aadca",
   "metadata": {},
   "outputs": [],
   "source": [
    "# Set up Splinter\n",
    "executable_path = {'executable_path': ChromeDriverManager().install()}"
   ]
  },
  {
   "cell_type": "code",
   "execution_count": 4,
   "id": "a0ec3278",
   "metadata": {},
   "outputs": [],
   "source": [
    "# Get an instance of Browser\n",
    "browser = Browser('chrome', **executable_path, headless=False)\n",
    "# Navigate to the web page\n",
    "browser.visit('http://google.com')"
   ]
  },
  {
   "cell_type": "markdown",
   "id": "d339865c",
   "metadata": {},
   "source": [
    "#### Action: \n",
    "- In the page source, find the search textbox and its enter the search text.\n",
    "- HTML code is as below:\n",
    "\n",
    "- <input class=\"gLFyf\" \n",
    "       jsaction=\"paste:puy29d;\" \n",
    "       maxlength=\"2048\" \n",
    "       name=\"q\" \n",
    "       type=\"text\" \n",
    "       autocapitalize=\"off\" \n",
    "       autocomplete=\"off\" \n",
    "       autocorrect=\"off\" \n",
    "       autofocus=\"\" \n",
    "       role=\"combobox\" \n",
    "       spellcheck=\"false\" \n",
    "       title=\"Search\" \n",
    "       value=\"\" aria-label=\"Search\" data-ved=\"0ahUKEwi66rrT9t79AhXVHjQIHbLxDDcQ39UDCAc\"/>\n",
    "       \n",
    "- Locating elements is similar to locating with Selenium, but with a better API.\n",
    "    - browser.find_by_css('h1').first  # .first gives the first found element\n",
    "    - browser.find_by_xpath('//h1')\n",
    "    - browser.find_by_tag('h1').last   # .last gives the last found h1 tag.\n",
    "    - browser.find_by_name('name').first.value\n",
    "    - browser.find_by_text('Hello World!')\n",
    "    - browser.find_by_id('firstheader')\n",
    "    - browser.find_by_value('query')"
   ]
  },
  {
   "cell_type": "code",
   "execution_count": 5,
   "id": "d963a395",
   "metadata": {},
   "outputs": [],
   "source": [
    "# Automation to find and enter the search text \n",
    "browser.find_by_name('q').fill('splinter - python acceptance testing for web applications')"
   ]
  },
  {
   "cell_type": "markdown",
   "id": "4d30a00e",
   "metadata": {},
   "source": [
    "#### Action: \n",
    "- Find the Google Search button and click it\n",
    "- HTML code\n",
    "-  <input class=\"gNO89b\" \n",
    "    value=\"Google Search\" \n",
    "          aria-label=\"Google Search\" \n",
    "          name=\"btnK\" role=\"button\" \n",
    "          tabindex=\"0\" type=\"submit\" data-ved=\"0ahUKEwi66rrT9t79AhXVHjQIHbLxDDcQ4dUDCBA\">"
   ]
  },
  {
   "cell_type": "code",
   "execution_count": 6,
   "id": "d432a905",
   "metadata": {},
   "outputs": [],
   "source": [
    "# Automate the above action:\n",
    "browser.find_by_name('btnK').click()"
   ]
  },
  {
   "cell_type": "code",
   "execution_count": 7,
   "id": "ca9009cc",
   "metadata": {},
   "outputs": [
    {
     "name": "stdout",
     "output_type": "stream",
     "text": [
      "Yes, the official website was found!\n"
     ]
    }
   ],
   "source": [
    "if browser.is_text_present('splinter.readthedocs.io'):\n",
    "    print(\"Yes, the official website was found!\")\n",
    "else:\n",
    "    print(\"No, it wasn't found... We need to improve our SEO techniques\")"
   ]
  },
  {
   "cell_type": "code",
   "execution_count": 8,
   "id": "aef3a837",
   "metadata": {},
   "outputs": [],
   "source": [
    "browser.quit()"
   ]
  },
  {
   "cell_type": "code",
   "execution_count": null,
   "id": "dd7b65b9",
   "metadata": {},
   "outputs": [],
   "source": []
  }
 ],
 "metadata": {
  "kernelspec": {
   "display_name": "mlenv",
   "language": "python",
   "name": "mlenv"
  },
  "language_info": {
   "codemirror_mode": {
    "name": "ipython",
    "version": 3
   },
   "file_extension": ".py",
   "mimetype": "text/x-python",
   "name": "python",
   "nbconvert_exporter": "python",
   "pygments_lexer": "ipython3",
   "version": "3.7.13"
  }
 },
 "nbformat": 4,
 "nbformat_minor": 5
}

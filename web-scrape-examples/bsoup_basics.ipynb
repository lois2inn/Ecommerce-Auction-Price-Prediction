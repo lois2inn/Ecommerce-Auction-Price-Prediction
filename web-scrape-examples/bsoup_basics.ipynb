{
 "cells": [
  {
   "cell_type": "code",
   "execution_count": null,
   "id": "27d24b07",
   "metadata": {},
   "outputs": [],
   "source": [
    "# Install needed dependencies\n",
    "# !pip install lxml\n",
    "# !pip install requests\n",
    "# !pip install beautifulsoup4"
   ]
  },
  {
   "cell_type": "code",
   "execution_count": null,
   "id": "87e8766e",
   "metadata": {},
   "outputs": [],
   "source": [
    "# Import dependencies\n",
    "from bs4 import BeautifulSoup\n",
    "import requests"
   ]
  },
  {
   "cell_type": "code",
   "execution_count": null,
   "id": "ac6cacb4",
   "metadata": {},
   "outputs": [],
   "source": [
    "# Specify the URL to get data from\n",
    "url=\"https://webscraper.io/test-sites/e-commerce/allinone/computers/laptops\"\n",
    "\n",
    "# Get data from webpage using HTTP and store in a response object\n",
    "page = requests.get(url)\n",
    "\n",
    "# Print the status code of response\n",
    "page.status_code"
   ]
  },
  {
   "cell_type": "code",
   "execution_count": null,
   "id": "c0ad64b2",
   "metadata": {},
   "outputs": [],
   "source": [
    "# Display the content of the response\n",
    "page.text"
   ]
  },
  {
   "cell_type": "code",
   "execution_count": null,
   "id": "e26aea26",
   "metadata": {},
   "outputs": [],
   "source": [
    "# Using a parser, extract the page content into a tree of tags \n",
    "soup = BeautifulSoup (page.text, \"html.parser\")\n",
    "print(soup.prettify())"
   ]
  },
  {
   "cell_type": "markdown",
   "id": "990e98ea",
   "metadata": {},
   "source": [
    "### Navigate the tree\n",
    "- Tag (name, attributes)\n",
    "- Navigable String\n",
    "- BeautifulSoup (Generated above. It represents the parsed document as a whole. Can be treated as Tag object)\n",
    "- Comments and special characters"
   ]
  },
  {
   "cell_type": "markdown",
   "id": "261d26b7",
   "metadata": {},
   "source": [
    "#### Tag"
   ]
  },
  {
   "cell_type": "code",
   "execution_count": null,
   "id": "ff557db2",
   "metadata": {},
   "outputs": [],
   "source": [
    "# title tag\n",
    "title_tag = soup.title\n",
    "print(title_tag)\n",
    "print(f\"Type: {type(title_tag)}\")"
   ]
  },
  {
   "cell_type": "code",
   "execution_count": null,
   "id": "0307d529",
   "metadata": {},
   "outputs": [],
   "source": [
    "# Tag Name \n",
    "title_tag.name"
   ]
  },
  {
   "cell_type": "code",
   "execution_count": null,
   "id": "b2f22800",
   "metadata": {},
   "outputs": [],
   "source": [
    "# Display the parent of current tag\n",
    "title_tag.parent.name"
   ]
  },
  {
   "cell_type": "code",
   "execution_count": null,
   "id": "1453f614",
   "metadata": {},
   "outputs": [],
   "source": [
    "# Display the top navigation header of webpage\n",
    "header_tag = soup.header\n",
    "header_tag"
   ]
  },
  {
   "cell_type": "code",
   "execution_count": null,
   "id": "422c4593",
   "metadata": {},
   "outputs": [],
   "source": [
    "header_tag['class']"
   ]
  },
  {
   "cell_type": "code",
   "execution_count": null,
   "id": "e99c5707",
   "metadata": {},
   "outputs": [],
   "source": [
    "# Access tag dictionary directly as .attrs:\n",
    "header_tag.attrs"
   ]
  },
  {
   "cell_type": "markdown",
   "id": "fcd25ab2",
   "metadata": {},
   "source": [
    "- Multiple values of an attribute are presented as a list as shown in above 'class'.\n",
    "- The values of tag attributes can be modified as a dictionary. (del tag['class'])"
   ]
  },
  {
   "cell_type": "code",
   "execution_count": null,
   "id": "2bb67a9e",
   "metadata": {},
   "outputs": [],
   "source": [
    "# Get a value that is always a list\n",
    "header_tag.get_attribute_list(\"class\")"
   ]
  },
  {
   "cell_type": "markdown",
   "id": "c7d87470",
   "metadata": {},
   "source": [
    "#### NavigableString"
   ]
  },
  {
   "cell_type": "code",
   "execution_count": null,
   "id": "dbfe0004",
   "metadata": {},
   "outputs": [],
   "source": [
    "# The string contained in tag\n",
    "title_tag.string"
   ]
  },
  {
   "cell_type": "code",
   "execution_count": null,
   "id": "1ec167b3",
   "metadata": {},
   "outputs": [],
   "source": [
    "type(title_tag.string)"
   ]
  },
  {
   "cell_type": "code",
   "execution_count": null,
   "id": "d4d95a6e",
   "metadata": {},
   "outputs": [],
   "source": [
    "# Displays the first div encountered\n",
    "# Container holding top navigation\n",
    "soup.div"
   ]
  },
  {
   "cell_type": "code",
   "execution_count": null,
   "id": "36bdcdf3",
   "metadata": {},
   "outputs": [],
   "source": [
    "# Display the style class of first div\n",
    "soup.div['class']"
   ]
  },
  {
   "cell_type": "code",
   "execution_count": null,
   "id": "9dacee57",
   "metadata": {},
   "outputs": [],
   "source": [
    "# Display the first paragraph encountered in header tag\n",
    "soup.header.p"
   ]
  },
  {
   "cell_type": "code",
   "execution_count": null,
   "id": "77f0a795",
   "metadata": {},
   "outputs": [],
   "source": [
    "# Get the content of first paragraph in header\n",
    "soup.header.p.string"
   ]
  },
  {
   "cell_type": "markdown",
   "id": "2b7c65e6",
   "metadata": {},
   "source": [
    "### Searching the tree\n",
    "- find_all(): looks through a tag’s descendants and retrieves all descendants that match your filters\n",
    "- find(): returns only one result"
   ]
  },
  {
   "cell_type": "code",
   "execution_count": null,
   "id": "3244a371",
   "metadata": {},
   "outputs": [],
   "source": [
    "soup.find_all('title', limit=1)"
   ]
  },
  {
   "cell_type": "code",
   "execution_count": null,
   "id": "2b2af64b",
   "metadata": {},
   "outputs": [],
   "source": [
    "soup.find(\"title\") # faster than above"
   ]
  },
  {
   "cell_type": "code",
   "execution_count": null,
   "id": "ae541069",
   "metadata": {},
   "outputs": [],
   "source": [
    "soup.find('div', {'class':'container test-site'})"
   ]
  },
  {
   "cell_type": "code",
   "execution_count": null,
   "id": "c63569bc",
   "metadata": {},
   "outputs": [],
   "source": [
    "soup.find('h4', {'class':'pull-right price'})"
   ]
  },
  {
   "cell_type": "code",
   "execution_count": null,
   "id": "cc171d74",
   "metadata": {},
   "outputs": [],
   "source": [
    "# Pass a string to a search method and Beautiful Soup will perform a match against that exact string\n",
    "all_anchor_tags = soup.find_all('a')\n",
    "all_anchor_tags"
   ]
  },
  {
   "cell_type": "code",
   "execution_count": null,
   "id": "53add9ac",
   "metadata": {},
   "outputs": [],
   "source": [
    "# A regular expression object can be passed to the find_all().\n",
    "# Beautiful Soup will filter against that regular expression using its search() method.\n",
    "\n",
    "import re\n",
    "for tag in soup.find_all(re.compile(\"^b\")):   #finds all the tags whose names start with the letter “b”\n",
    "    print(tag.name)"
   ]
  },
  {
   "cell_type": "code",
   "execution_count": null,
   "id": "0980cb48",
   "metadata": {},
   "outputs": [],
   "source": [
    "# finds all the tags whose names contain the letter 't'\n",
    "for tag in soup.find_all(re.compile(\"t\")):\n",
    "    print(tag.name)"
   ]
  },
  {
   "cell_type": "code",
   "execution_count": null,
   "id": "ff33d1dc",
   "metadata": {},
   "outputs": [],
   "source": [
    "# A list can be passed to find_all()\n",
    "soup.find_all([\"a\", \"b\"])"
   ]
  },
  {
   "cell_type": "code",
   "execution_count": null,
   "id": "f945c11d",
   "metadata": {},
   "outputs": [],
   "source": [
    "# To find all the tags used in the tree except the text strings\n",
    "for tag in soup.find_all(True):\n",
    "    print(tag.name)"
   ]
  },
  {
   "cell_type": "code",
   "execution_count": null,
   "id": "64c12764",
   "metadata": {},
   "outputs": [],
   "source": [
    "# define a function that takes an element as its only argument. \n",
    "# The function should return True if the argument matches, and False otherwise."
   ]
  },
  {
   "cell_type": "code",
   "execution_count": null,
   "id": "69c5711b",
   "metadata": {},
   "outputs": [],
   "source": [
    "def has_class_but_no_id(tag):\n",
    "    return tag.has_attr('class') and not tag.has_attr('id')"
   ]
  },
  {
   "cell_type": "code",
   "execution_count": null,
   "id": "c36e132e",
   "metadata": {},
   "outputs": [],
   "source": [
    "soup.find_all(has_class_but_no_id)"
   ]
  },
  {
   "cell_type": "code",
   "execution_count": null,
   "id": "3db27f39",
   "metadata": {},
   "outputs": [],
   "source": [
    "# Search by css class\n",
    "soup.find_all(\"p\", class_=\"pull-right\")"
   ]
  },
  {
   "cell_type": "code",
   "execution_count": null,
   "id": "24e48a5a",
   "metadata": {},
   "outputs": [],
   "source": [
    "soup.find_all('h4', {'class':'pull-right price'})[6:]"
   ]
  },
  {
   "cell_type": "code",
   "execution_count": null,
   "id": "25801752",
   "metadata": {},
   "outputs": [],
   "source": [
    "soup.find_all('p', class_ = re.compile('pull'), limit = 3)"
   ]
  },
  {
   "cell_type": "code",
   "execution_count": null,
   "id": "920f238d",
   "metadata": {},
   "outputs": [],
   "source": [
    "soup.find_all(string = ['Cloud Scraper', 'Tutorials'])"
   ]
  },
  {
   "cell_type": "markdown",
   "id": "7c576635",
   "metadata": {},
   "source": [
    "#### Comment object \n",
    "- is just a special type of NavigableString:"
   ]
  },
  {
   "cell_type": "code",
   "execution_count": null,
   "id": "6b389e7a",
   "metadata": {},
   "outputs": [],
   "source": [
    "markup = \"<b><!--Hey, buddy. Want to buy a used parser?--></b>\"\n",
    "soup1 = BeautifulSoup(markup, 'html.parser')\n",
    "comment = soup1.b.string\n",
    "type(comment)"
   ]
  },
  {
   "cell_type": "code",
   "execution_count": null,
   "id": "3560b642",
   "metadata": {},
   "outputs": [],
   "source": []
  }
 ],
 "metadata": {
  "kernelspec": {
   "display_name": "mlenv",
   "language": "python",
   "name": "mlenv"
  },
  "language_info": {
   "codemirror_mode": {
    "name": "ipython",
    "version": 3
   },
   "file_extension": ".py",
   "mimetype": "text/x-python",
   "name": "python",
   "nbconvert_exporter": "python",
   "pygments_lexer": "ipython3",
   "version": "3.7.13"
  }
 },
 "nbformat": 4,
 "nbformat_minor": 5
}

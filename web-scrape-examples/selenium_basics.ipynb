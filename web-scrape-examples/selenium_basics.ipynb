{
 "cells": [
  {
   "cell_type": "code",
   "execution_count": 1,
   "id": "f457175d",
   "metadata": {},
   "outputs": [],
   "source": [
    "# Install dependencies\n",
    "\n",
    "# 1. Have Google Chrome browser installed\n",
    "# 2. Install selenium library\n",
    "# !pip install selenium\n",
    "\n",
    "# 3. Web Driver manager for Python\n",
    "# !pip install webdriver_manager"
   ]
  },
  {
   "cell_type": "code",
   "execution_count": 2,
   "id": "6525143e",
   "metadata": {},
   "outputs": [],
   "source": [
    "# Import dependencies\n",
    "from selenium import webdriver\n",
    "from selenium.webdriver.chrome.service import Service\n",
    "from selenium.webdriver.common.by import By\n",
    "from selenium.webdriver.common.keys import Keys\n",
    "from webdriver_manager.chrome import ChromeDriverManager"
   ]
  },
  {
   "cell_type": "code",
   "execution_count": 3,
   "id": "d624d872",
   "metadata": {},
   "outputs": [],
   "source": [
    "# Set chrome options\n",
    "\n",
    "# Create an instance of chromeOptions\n",
    "options = webdriver.ChromeOptions()\n",
    "\n",
    "# Set the options\n",
    "options.add_argument('--ignore-certificate-errors')\n",
    "options.add_argument('--incognito')\n",
    "options.add_argument('--headless')"
   ]
  },
  {
   "cell_type": "code",
   "execution_count": 4,
   "id": "07d42bd1",
   "metadata": {},
   "outputs": [],
   "source": [
    "# Install ChromeDriver\n",
    "browser = webdriver.Chrome(service=Service(ChromeDriverManager().install()), options=options)"
   ]
  },
  {
   "cell_type": "markdown",
   "id": "2bae5e3b",
   "metadata": {},
   "source": [
    "### Navigation"
   ]
  },
  {
   "cell_type": "code",
   "execution_count": 5,
   "id": "8f9666d7",
   "metadata": {},
   "outputs": [],
   "source": [
    "# Navigate to a page given by the URL\n",
    "browser.get(\"http://www.python.org\")\n",
    "\n",
    "# WebDriver will wait until the page has fully loaded (that is, the onload event has fired) \n",
    "#before returning control to the script.\n",
    "\n",
    "# Print the HTML code of web page\n",
    "#print(browser.page_source)"
   ]
  },
  {
   "cell_type": "code",
   "execution_count": 6,
   "id": "b1e1778f",
   "metadata": {},
   "outputs": [
    {
     "data": {
      "text/plain": [
       "'Welcome to Python.org'"
      ]
     },
     "execution_count": 6,
     "metadata": {},
     "output_type": "execute_result"
    }
   ],
   "source": [
    "# Get title of the page\n",
    "browser.title"
   ]
  },
  {
   "cell_type": "code",
   "execution_count": 7,
   "id": "99fb4a1d",
   "metadata": {},
   "outputs": [
    {
     "data": {
      "text/plain": [
       "'https://www.python.org/'"
      ]
     },
     "execution_count": 7,
     "metadata": {},
     "output_type": "execute_result"
    }
   ],
   "source": [
    "# Get the current URL. \n",
    "# can be useful when there are redirections on the website.\n",
    "browser.current_url "
   ]
  },
  {
   "cell_type": "markdown",
   "id": "c0688679",
   "metadata": {},
   "source": [
    "### Locating elements"
   ]
  },
  {
   "cell_type": "code",
   "execution_count": 8,
   "id": "d49fd494",
   "metadata": {},
   "outputs": [
    {
     "name": "stdout",
     "output_type": "stream",
     "text": [
      "<selenium.webdriver.remote.webelement.WebElement (session=\"b0b2dd96dc25d11b510d449ade3f93d2\", element=\"39507008-ea39-45ac-8940-d2042f42725c\")>\n"
     ]
    }
   ],
   "source": [
    "# Using By to locate elements within a document\n",
    "intro_element = browser.find_element(By.CLASS_NAME, \"introduction\")\n",
    "print(intro_element)"
   ]
  },
  {
   "cell_type": "markdown",
   "id": "6ce8a2db",
   "metadata": {},
   "source": [
    "- The HTML code:\n",
    "- <input id=\"id-search\" name=\"q\" \n",
    "         type=\"search\" \n",
    "         role=\"textbox\" \n",
    "         class=\"search-field\" \n",
    "         placeholder=\"Search\" \n",
    "         value=\"\" tabindex=\"1\"/>"
   ]
  },
  {
   "cell_type": "code",
   "execution_count": 9,
   "id": "41454ef8",
   "metadata": {},
   "outputs": [],
   "source": [
    "# The input text element can be located by its name attribute using the find_element method \n",
    "# and using By.NAME as its first parameter. \n",
    "search_field_element = browser.find_element(By.NAME,\"q\")"
   ]
  },
  {
   "cell_type": "markdown",
   "id": "c3e09341",
   "metadata": {},
   "source": [
    "#### Other ways of locating HTML elements\n",
    "- search_field_element = browser.find_element(By.ID, \"id-search\")\n",
    "- search_field_element = browser.find_element(By.XPATH, \"//input[@id='id-search']\")\n",
    "- search_field_element = browser.find_element(By.CSS_SELECTOR, \"input#id-search\")"
   ]
  },
  {
   "cell_type": "code",
   "execution_count": 10,
   "id": "d5431845",
   "metadata": {},
   "outputs": [],
   "source": [
    "# Clear any pre-populated text in the input field \n",
    "search_field_element.clear()\n",
    "\n",
    "# Sending keys is similar to entering keys using your keyboard. \n",
    "search_field_element.send_keys(\"lambda\")\n",
    "\n",
    "# Special keys can be sent using the Keys class \n",
    "search_field_element.send_keys(Keys.RETURN) # HTML form is submitted\n",
    "\n",
    "# Results of search, if any\n",
    "#print(browser.page_source)"
   ]
  },
  {
   "cell_type": "code",
   "execution_count": 12,
   "id": "71787909",
   "metadata": {},
   "outputs": [],
   "source": [
    "assert \"No results found.\" not in browser.page_source"
   ]
  },
  {
   "cell_type": "code",
   "execution_count": 13,
   "id": "56a85ec6",
   "metadata": {},
   "outputs": [],
   "source": [
    "# Close the browser window\n",
    "browser.close()"
   ]
  },
  {
   "cell_type": "code",
   "execution_count": null,
   "id": "cb562759",
   "metadata": {},
   "outputs": [],
   "source": []
  }
 ],
 "metadata": {
  "kernelspec": {
   "display_name": "mlenv",
   "language": "python",
   "name": "mlenv"
  },
  "language_info": {
   "codemirror_mode": {
    "name": "ipython",
    "version": 3
   },
   "file_extension": ".py",
   "mimetype": "text/x-python",
   "name": "python",
   "nbconvert_exporter": "python",
   "pygments_lexer": "ipython3",
   "version": "3.7.13"
  }
 },
 "nbformat": 4,
 "nbformat_minor": 5
}

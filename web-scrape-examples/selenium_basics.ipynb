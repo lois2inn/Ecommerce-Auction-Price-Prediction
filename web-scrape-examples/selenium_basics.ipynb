{
 "cells": [
  {
   "cell_type": "code",
   "execution_count": 1,
   "id": "26a30006",
   "metadata": {},
   "outputs": [
    {
     "name": "stdout",
     "output_type": "stream",
     "text": [
      "Requirement already satisfied: selenium in /Users/sandeep/opt/anaconda3/envs/mlenv/lib/python3.7/site-packages (4.8.2)\n",
      "Requirement already satisfied: trio~=0.17 in /Users/sandeep/opt/anaconda3/envs/mlenv/lib/python3.7/site-packages (from selenium) (0.22.0)\n",
      "Requirement already satisfied: urllib3[socks]~=1.26 in /Users/sandeep/opt/anaconda3/envs/mlenv/lib/python3.7/site-packages (from selenium) (1.26.14)\n",
      "Requirement already satisfied: trio-websocket~=0.9 in /Users/sandeep/opt/anaconda3/envs/mlenv/lib/python3.7/site-packages (from selenium) (0.9.2)\n",
      "Requirement already satisfied: certifi>=2021.10.8 in /Users/sandeep/opt/anaconda3/envs/mlenv/lib/python3.7/site-packages (from selenium) (2022.12.7)\n",
      "Requirement already satisfied: async-generator>=1.9 in /Users/sandeep/opt/anaconda3/envs/mlenv/lib/python3.7/site-packages (from trio~=0.17->selenium) (1.10)\n",
      "Requirement already satisfied: idna in /Users/sandeep/opt/anaconda3/envs/mlenv/lib/python3.7/site-packages (from trio~=0.17->selenium) (3.4)\n",
      "Requirement already satisfied: exceptiongroup>=1.0.0rc9 in /Users/sandeep/opt/anaconda3/envs/mlenv/lib/python3.7/site-packages (from trio~=0.17->selenium) (1.1.0)\n",
      "Requirement already satisfied: sortedcontainers in /Users/sandeep/opt/anaconda3/envs/mlenv/lib/python3.7/site-packages (from trio~=0.17->selenium) (2.4.0)\n",
      "Requirement already satisfied: sniffio in /Users/sandeep/opt/anaconda3/envs/mlenv/lib/python3.7/site-packages (from trio~=0.17->selenium) (1.2.0)\n",
      "Requirement already satisfied: attrs>=19.2.0 in /Users/sandeep/opt/anaconda3/envs/mlenv/lib/python3.7/site-packages (from trio~=0.17->selenium) (22.1.0)\n",
      "Requirement already satisfied: outcome in /Users/sandeep/opt/anaconda3/envs/mlenv/lib/python3.7/site-packages (from trio~=0.17->selenium) (1.2.0)\n",
      "Requirement already satisfied: wsproto>=0.14 in /Users/sandeep/opt/anaconda3/envs/mlenv/lib/python3.7/site-packages (from trio-websocket~=0.9->selenium) (1.2.0)\n",
      "Requirement already satisfied: PySocks!=1.5.7,<2.0,>=1.5.6 in /Users/sandeep/opt/anaconda3/envs/mlenv/lib/python3.7/site-packages (from urllib3[socks]~=1.26->selenium) (1.7.1)\n",
      "Requirement already satisfied: h11<1,>=0.9.0 in /Users/sandeep/opt/anaconda3/envs/mlenv/lib/python3.7/site-packages (from wsproto>=0.14->trio-websocket~=0.9->selenium) (0.14.0)\n",
      "Requirement already satisfied: typing-extensions in /Users/sandeep/opt/anaconda3/envs/mlenv/lib/python3.7/site-packages (from h11<1,>=0.9.0->wsproto>=0.14->trio-websocket~=0.9->selenium) (4.4.0)\n"
     ]
    }
   ],
   "source": [
    "# Install dependencies\n",
    "# !pip install selenium"
   ]
  },
  {
   "cell_type": "code",
   "execution_count": 3,
   "id": "12ef895a",
   "metadata": {},
   "outputs": [],
   "source": [
    "# Import dependencies\n",
    "from selenium import webdriver\n",
    "from webdriver_manager.chrome import ChromeDriverManager"
   ]
  },
  {
   "cell_type": "code",
   "execution_count": 4,
   "id": "00dc8b39",
   "metadata": {},
   "outputs": [
    {
     "name": "stderr",
     "output_type": "stream",
     "text": [
      "[WDM] - Downloading: 100%|█████████████████| 8.82M/8.82M [00:00<00:00, 19.0MB/s]\n"
     ]
    }
   ],
   "source": [
    "# headless driver initialization\n",
    "executable_path = {'executable_path': ChromeDriverManager().install()}"
   ]
  },
  {
   "cell_type": "code",
   "execution_count": null,
   "id": "fbee30a4",
   "metadata": {},
   "outputs": [],
   "source": []
  }
 ],
 "metadata": {
  "kernelspec": {
   "display_name": "mlenv",
   "language": "python",
   "name": "mlenv"
  },
  "language_info": {
   "codemirror_mode": {
    "name": "ipython",
    "version": 3
   },
   "file_extension": ".py",
   "mimetype": "text/x-python",
   "name": "python",
   "nbconvert_exporter": "python",
   "pygments_lexer": "ipython3",
   "version": "3.7.13"
  }
 },
 "nbformat": 4,
 "nbformat_minor": 5
}

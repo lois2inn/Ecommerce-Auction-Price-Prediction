{
 "cells": [
  {
   "cell_type": "code",
   "execution_count": 1,
   "id": "a7935143",
   "metadata": {},
   "outputs": [],
   "source": [
    "# Install libraries if not installed\n",
    "# !pip install html5lib\n",
    "# !pip install selenium\n",
    "# !pip install splinter\n",
    "# !pip install webdriver_manager\n",
    "# !pip install pandas\n",
    "# !pip install pymongo"
   ]
  },
  {
   "cell_type": "code",
   "execution_count": 2,
   "id": "0fbd1cf3",
   "metadata": {},
   "outputs": [],
   "source": [
    "# Import Dependencies\n",
    "import pandas as pd\n",
    "from tqdm import tqdm\n",
    "import re\n",
    "import time\n",
    "import pymongo\n",
    "import random\n",
    "\n",
    "from splinter import Browser\n",
    "from selenium.webdriver.common.keys import Keys\n",
    "from bs4 import BeautifulSoup as soup\n",
    "from webdriver_manager.chrome import ChromeDriverManager"
   ]
  },
  {
   "cell_type": "code",
   "execution_count": 3,
   "id": "748597c2",
   "metadata": {},
   "outputs": [],
   "source": [
    "# Set up Splinter\n",
    "executable_path = {'executable_path': ChromeDriverManager().install()}"
   ]
  },
  {
   "cell_type": "code",
   "execution_count": 4,
   "id": "ce453074",
   "metadata": {},
   "outputs": [],
   "source": [
    "# Get an instance of Browser\n",
    "browser = Browser('chrome', **executable_path, headless=False)"
   ]
  },
  {
   "cell_type": "code",
   "execution_count": 5,
   "id": "56bdab8e",
   "metadata": {},
   "outputs": [],
   "source": [
    "# Set up MongoDB\n",
    "conn = 'mongodb://localhost:27017'\n",
    "client = pymongo.MongoClient(conn)"
   ]
  },
  {
   "cell_type": "code",
   "execution_count": 6,
   "id": "65e3d984",
   "metadata": {},
   "outputs": [],
   "source": [
    "db = client.goodwill\n",
    "collection = db.items"
   ]
  },
  {
   "cell_type": "markdown",
   "id": "6b74f2d1",
   "metadata": {},
   "source": [
    "## Open Goodwill site and fill search form\n",
    "\n",
    "- Open Goodwill site and search for computer laptops. \n",
    "- Set 90 days to go back from today. \n",
    "- Min price set to 200. \n",
    "- Click on 'This website uses cookies' dialog if present."
   ]
  },
  {
   "cell_type": "code",
   "execution_count": null,
   "id": "825d4eb2",
   "metadata": {},
   "outputs": [],
   "source": [
    "browser.visit('https://shopgoodwill.com/search/advancedsearch')\n",
    "element = browser.find_by_id('ddlCategories').first\n",
    "element.select('7') # Computers and Electronics\n",
    "element = browser.find_by_id('ddlCategories1').first\n",
    "element.select('30') # Computers \n",
    "element = browser.find_by_id('ddlCategories2').first\n",
    "element.select('176') # Laptops\n",
    "# Select 'Closed Auctions'\n",
    "browser.find_by_name('searchClosedAuctions')[2].check()\n",
    "# Select days to go back from Today\n",
    "element = browser.find_by_id('ddlClosedAuctionDaysBack').first\n",
    "element.select('90') # 90 days\n",
    "# Set minimum price\n",
    "browser.find_by_id('txtLowPrice').fill('200')\n",
    "# Wait 20 seconds before checking\n",
    "time.sleep(20)\n",
    "# Click on accept cookies - look for text\n",
    "if browser.is_text_present('This website uses cookies to ensure you get the best experience on our website'):\n",
    "    browser.links.find_by_text('Got it!').click()\n",
    "# Click on Search button\n",
    "element = browser.find_by_css('.button.btn.btn-primary.w-100').first\n",
    "element.click()"
   ]
  },
  {
   "cell_type": "code",
   "execution_count": null,
   "id": "29612695",
   "metadata": {},
   "outputs": [],
   "source": []
  }
 ],
 "metadata": {
  "kernelspec": {
   "display_name": "mlenv",
   "language": "python",
   "name": "mlenv"
  },
  "language_info": {
   "codemirror_mode": {
    "name": "ipython",
    "version": 3
   },
   "file_extension": ".py",
   "mimetype": "text/x-python",
   "name": "python",
   "nbconvert_exporter": "python",
   "pygments_lexer": "ipython3",
   "version": "3.7.13"
  }
 },
 "nbformat": 4,
 "nbformat_minor": 5
}
